{
 "cells": [
  {
   "cell_type": "markdown",
   "id": "d9243ba7",
   "metadata": {},
   "source": [
    "## Warmup-1 \n",
    "\n",
    "#### Simple warmup problems to get started, no loops (solutions available)"
   ]
  },
  {
   "cell_type": "markdown",
   "id": "509a0294",
   "metadata": {},
   "source": [
    "#### sleep_in\n",
    "\n",
    "The parameter weekday is True if it is a weekday, and the parameter vacation is True if we are on vacation. We sleep in if it is not a weekday or we're on vacation. Return True if we sleep in.\n",
    "\n",
    "\n",
    "sleep_in(False, False) → True <br>\n",
    "sleep_in(True, False) → False <br>\n",
    "sleep_in(False, True) → True"
   ]
  },
  {
   "cell_type": "code",
   "execution_count": 19,
   "id": "34ea5b32",
   "metadata": {},
   "outputs": [],
   "source": [
    "def sleep_in(weekday, vacation):\n",
    "    if (vacation == True) or (weekday == False):\n",
    "        return True\n",
    "    elif weekday == True:\n",
    "        return False"
   ]
  },
  {
   "cell_type": "code",
   "execution_count": 20,
   "id": "2fbbad61",
   "metadata": {},
   "outputs": [
    {
     "data": {
      "text/plain": [
       "True"
      ]
     },
     "execution_count": 20,
     "metadata": {},
     "output_type": "execute_result"
    }
   ],
   "source": [
    "sleep_in(True, True)"
   ]
  },
  {
   "cell_type": "code",
   "execution_count": 24,
   "id": "959bae78",
   "metadata": {},
   "outputs": [
    {
     "data": {
      "text/plain": [
       "True"
      ]
     },
     "execution_count": 24,
     "metadata": {},
     "output_type": "execute_result"
    }
   ],
   "source": [
    "sleep_in(False, True)"
   ]
  },
  {
   "cell_type": "code",
   "execution_count": 23,
   "id": "f90c9406",
   "metadata": {},
   "outputs": [
    {
     "data": {
      "text/plain": [
       "False"
      ]
     },
     "execution_count": 23,
     "metadata": {},
     "output_type": "execute_result"
    }
   ],
   "source": [
    "sleep_in(True, False)"
   ]
  },
  {
   "cell_type": "code",
   "execution_count": 22,
   "id": "45326d4c",
   "metadata": {},
   "outputs": [
    {
     "data": {
      "text/plain": [
       "True"
      ]
     },
     "execution_count": 22,
     "metadata": {},
     "output_type": "execute_result"
    }
   ],
   "source": [
    "sleep_in(False, False)"
   ]
  },
  {
   "cell_type": "markdown",
   "id": "37fa37ce",
   "metadata": {},
   "source": [
    "#### monkey_trouble\n",
    "\n",
    "\n",
    "We have two monkeys, a and b, and the parameters a_smile and b_smile indicate if each is smiling. We are in trouble if they are both smiling or if neither of them is smiling. Return True if we are in trouble.\n",
    "\n",
    "\n",
    "monkey_trouble(True, True) → True <br>\n",
    "monkey_trouble(False, False) → True <br>\n",
    "monkey_trouble(True, False) → False <br>"
   ]
  },
  {
   "cell_type": "code",
   "execution_count": 25,
   "id": "460502f0",
   "metadata": {},
   "outputs": [],
   "source": [
    "def monkey_trouble(a_smile, b_smile):\n",
    "    if a_smile == b_smile:\n",
    "        return True\n",
    "    else:\n",
    "        return False"
   ]
  },
  {
   "cell_type": "code",
   "execution_count": 26,
   "id": "be32bae5",
   "metadata": {},
   "outputs": [
    {
     "data": {
      "text/plain": [
       "True"
      ]
     },
     "execution_count": 26,
     "metadata": {},
     "output_type": "execute_result"
    }
   ],
   "source": [
    "monkey_trouble(True, True)"
   ]
  },
  {
   "cell_type": "code",
   "execution_count": 27,
   "id": "c1c6dc84",
   "metadata": {},
   "outputs": [
    {
     "data": {
      "text/plain": [
       "False"
      ]
     },
     "execution_count": 27,
     "metadata": {},
     "output_type": "execute_result"
    }
   ],
   "source": [
    "monkey_trouble(False, True)"
   ]
  },
  {
   "cell_type": "code",
   "execution_count": 28,
   "id": "9cd00abe",
   "metadata": {},
   "outputs": [
    {
     "data": {
      "text/plain": [
       "False"
      ]
     },
     "execution_count": 28,
     "metadata": {},
     "output_type": "execute_result"
    }
   ],
   "source": [
    "monkey_trouble(True, False)"
   ]
  },
  {
   "cell_type": "code",
   "execution_count": 29,
   "id": "8a5a686c",
   "metadata": {},
   "outputs": [
    {
     "data": {
      "text/plain": [
       "True"
      ]
     },
     "execution_count": 29,
     "metadata": {},
     "output_type": "execute_result"
    }
   ],
   "source": [
    "monkey_trouble(False, False)"
   ]
  },
  {
   "cell_type": "markdown",
   "id": "995c249b",
   "metadata": {},
   "source": [
    "#### sum_double\n",
    "\n",
    "Given two int values, return their sum. Unless the two values are the same, then return double their sum.\n",
    "\n",
    "\n",
    "sum_double(1, 2) → 3 <br>\n",
    "sum_double(3, 2) → 5 <br>\n",
    "sum_double(2, 2) → 8"
   ]
  },
  {
   "cell_type": "code",
   "execution_count": 30,
   "id": "dd0b85a0",
   "metadata": {},
   "outputs": [],
   "source": [
    "def sum_double(a, b):\n",
    "    if a == b:\n",
    "        return 2*(a+b)\n",
    "    else:\n",
    "        return a+b"
   ]
  },
  {
   "cell_type": "code",
   "execution_count": 31,
   "id": "17adc7cf",
   "metadata": {},
   "outputs": [
    {
     "data": {
      "text/plain": [
       "3"
      ]
     },
     "execution_count": 31,
     "metadata": {},
     "output_type": "execute_result"
    }
   ],
   "source": [
    "sum_double(1, 2)"
   ]
  },
  {
   "cell_type": "code",
   "execution_count": 32,
   "id": "6fc25f2e",
   "metadata": {},
   "outputs": [
    {
     "data": {
      "text/plain": [
       "7"
      ]
     },
     "execution_count": 32,
     "metadata": {},
     "output_type": "execute_result"
    }
   ],
   "source": [
    "sum_double(3, 4)"
   ]
  },
  {
   "cell_type": "code",
   "execution_count": 33,
   "id": "9ff1d652",
   "metadata": {},
   "outputs": [
    {
     "data": {
      "text/plain": [
       "1"
      ]
     },
     "execution_count": 33,
     "metadata": {},
     "output_type": "execute_result"
    }
   ],
   "source": [
    "sum_double(0, 1)"
   ]
  },
  {
   "cell_type": "code",
   "execution_count": 34,
   "id": "ba52f503",
   "metadata": {},
   "outputs": [
    {
     "data": {
      "text/plain": [
       "0"
      ]
     },
     "execution_count": 34,
     "metadata": {},
     "output_type": "execute_result"
    }
   ],
   "source": [
    "sum_double(0, 0)"
   ]
  },
  {
   "cell_type": "code",
   "execution_count": 35,
   "id": "dee23768",
   "metadata": {},
   "outputs": [
    {
     "data": {
      "text/plain": [
       "12"
      ]
     },
     "execution_count": 35,
     "metadata": {},
     "output_type": "execute_result"
    }
   ],
   "source": [
    "sum_double(3, 3)"
   ]
  },
  {
   "cell_type": "code",
   "execution_count": 36,
   "id": "0b7cf634",
   "metadata": {},
   "outputs": [
    {
     "data": {
      "text/plain": [
       "-1"
      ]
     },
     "execution_count": 36,
     "metadata": {},
     "output_type": "execute_result"
    }
   ],
   "source": [
    "sum_double(-1, 0)"
   ]
  },
  {
   "cell_type": "code",
   "execution_count": 37,
   "id": "b0ad0589",
   "metadata": {},
   "outputs": [
    {
     "data": {
      "text/plain": [
       "8"
      ]
     },
     "execution_count": 37,
     "metadata": {},
     "output_type": "execute_result"
    }
   ],
   "source": [
    "sum_double(2, 2)"
   ]
  },
  {
   "cell_type": "code",
   "execution_count": 38,
   "id": "e2ebe197",
   "metadata": {},
   "outputs": [
    {
     "data": {
      "text/plain": [
       "5"
      ]
     },
     "execution_count": 38,
     "metadata": {},
     "output_type": "execute_result"
    }
   ],
   "source": [
    "sum_double(3, 2)"
   ]
  },
  {
   "cell_type": "markdown",
   "id": "1d4bec81",
   "metadata": {},
   "source": [
    "#### diff21\n",
    "\n",
    "Given an int n, return the absolute difference between n and 21, except return double the absolute difference if n is over 21.\n",
    "\n",
    "\n",
    "diff21(19) → 2 <br>\n",
    "diff21(10) → 11 <br>\n",
    "diff21(21) → 0"
   ]
  },
  {
   "cell_type": "code",
   "execution_count": 40,
   "id": "5fa7ee46",
   "metadata": {},
   "outputs": [],
   "source": [
    "def diff21(n):\n",
    "    diff = abs(21 - n)\n",
    "    if n <= 21:\n",
    "        return diff\n",
    "    else:\n",
    "        return 2*diff"
   ]
  },
  {
   "cell_type": "code",
   "execution_count": 41,
   "id": "36bd0925",
   "metadata": {},
   "outputs": [
    {
     "data": {
      "text/plain": [
       "2"
      ]
     },
     "execution_count": 41,
     "metadata": {},
     "output_type": "execute_result"
    }
   ],
   "source": [
    "diff21(19)"
   ]
  },
  {
   "cell_type": "code",
   "execution_count": 42,
   "id": "62a01918",
   "metadata": {},
   "outputs": [
    {
     "data": {
      "text/plain": [
       "58"
      ]
     },
     "execution_count": 42,
     "metadata": {},
     "output_type": "execute_result"
    }
   ],
   "source": [
    "diff21(50)"
   ]
  },
  {
   "cell_type": "code",
   "execution_count": 43,
   "id": "2520a99d",
   "metadata": {},
   "outputs": [
    {
     "data": {
      "text/plain": [
       "23"
      ]
     },
     "execution_count": 43,
     "metadata": {},
     "output_type": "execute_result"
    }
   ],
   "source": [
    "diff21(-2)"
   ]
  },
  {
   "cell_type": "code",
   "execution_count": 44,
   "id": "a4479317",
   "metadata": {},
   "outputs": [
    {
     "data": {
      "text/plain": [
       "22"
      ]
     },
     "execution_count": 44,
     "metadata": {},
     "output_type": "execute_result"
    }
   ],
   "source": [
    "diff21(-1)"
   ]
  },
  {
   "cell_type": "code",
   "execution_count": 45,
   "id": "e1de4078",
   "metadata": {},
   "outputs": [
    {
     "data": {
      "text/plain": [
       "19"
      ]
     },
     "execution_count": 45,
     "metadata": {},
     "output_type": "execute_result"
    }
   ],
   "source": [
    "diff21(2)"
   ]
  },
  {
   "cell_type": "code",
   "execution_count": 46,
   "id": "1eb87b4e",
   "metadata": {},
   "outputs": [
    {
     "data": {
      "text/plain": [
       "20"
      ]
     },
     "execution_count": 46,
     "metadata": {},
     "output_type": "execute_result"
    }
   ],
   "source": [
    "diff21(1)"
   ]
  },
  {
   "cell_type": "code",
   "execution_count": 47,
   "id": "0f5c65bd",
   "metadata": {},
   "outputs": [
    {
     "data": {
      "text/plain": [
       "21"
      ]
     },
     "execution_count": 47,
     "metadata": {},
     "output_type": "execute_result"
    }
   ],
   "source": [
    "diff21(0)"
   ]
  },
  {
   "cell_type": "code",
   "execution_count": 48,
   "id": "c8e4f8ee",
   "metadata": {},
   "outputs": [
    {
     "data": {
      "text/plain": [
       "18"
      ]
     },
     "execution_count": 48,
     "metadata": {},
     "output_type": "execute_result"
    }
   ],
   "source": [
    "diff21(30)"
   ]
  },
  {
   "cell_type": "code",
   "execution_count": 49,
   "id": "45cc622e",
   "metadata": {},
   "outputs": [
    {
     "data": {
      "text/plain": [
       "8"
      ]
     },
     "execution_count": 49,
     "metadata": {},
     "output_type": "execute_result"
    }
   ],
   "source": [
    "diff21(25)"
   ]
  },
  {
   "cell_type": "code",
   "execution_count": 50,
   "id": "cf2612fd",
   "metadata": {},
   "outputs": [
    {
     "data": {
      "text/plain": [
       "2"
      ]
     },
     "execution_count": 50,
     "metadata": {},
     "output_type": "execute_result"
    }
   ],
   "source": [
    "diff21(22)"
   ]
  },
  {
   "cell_type": "code",
   "execution_count": 51,
   "id": "49114e5f",
   "metadata": {},
   "outputs": [
    {
     "data": {
      "text/plain": [
       "0"
      ]
     },
     "execution_count": 51,
     "metadata": {},
     "output_type": "execute_result"
    }
   ],
   "source": [
    "diff21(21)"
   ]
  },
  {
   "cell_type": "code",
   "execution_count": 52,
   "id": "157bf278",
   "metadata": {},
   "outputs": [
    {
     "data": {
      "text/plain": [
       "11"
      ]
     },
     "execution_count": 52,
     "metadata": {},
     "output_type": "execute_result"
    }
   ],
   "source": [
    "diff21(10)"
   ]
  },
  {
   "cell_type": "markdown",
   "id": "be052700",
   "metadata": {},
   "source": [
    "#### parrot_trouble\n",
    "\n",
    "We have a loud talking parrot. The \"hour\" parameter is the current hour time in the range 0..23. We are in trouble if the parrot is talking and the hour is before 7 or after 20. Return True if we are in trouble.\n",
    "\n",
    "\n",
    "parrot_trouble(True, 6) → True <br>\n",
    "parrot_trouble(True, 7) → False <br>\n",
    "parrot_trouble(False, 6) → False"
   ]
  },
  {
   "cell_type": "code",
   "execution_count": 53,
   "id": "6e5519dc",
   "metadata": {},
   "outputs": [],
   "source": [
    "def parrot_trouble(talking, hour):\n",
    "    return(talking ==  True and (hour < 7 or hour > 20))"
   ]
  },
  {
   "cell_type": "code",
   "execution_count": 54,
   "id": "50904aee",
   "metadata": {},
   "outputs": [
    {
     "data": {
      "text/plain": [
       "True"
      ]
     },
     "execution_count": 54,
     "metadata": {},
     "output_type": "execute_result"
    }
   ],
   "source": [
    "parrot_trouble(True, 6)"
   ]
  },
  {
   "cell_type": "code",
   "execution_count": 55,
   "id": "723ec738",
   "metadata": {},
   "outputs": [
    {
     "data": {
      "text/plain": [
       "False"
      ]
     },
     "execution_count": 55,
     "metadata": {},
     "output_type": "execute_result"
    }
   ],
   "source": [
    "parrot_trouble(False, 12)"
   ]
  },
  {
   "cell_type": "code",
   "execution_count": 56,
   "id": "6b613821",
   "metadata": {},
   "outputs": [
    {
     "data": {
      "text/plain": [
       "False"
      ]
     },
     "execution_count": 56,
     "metadata": {},
     "output_type": "execute_result"
    }
   ],
   "source": [
    "parrot_trouble(True, 20)"
   ]
  },
  {
   "cell_type": "code",
   "execution_count": 57,
   "id": "00baf116",
   "metadata": {},
   "outputs": [
    {
     "data": {
      "text/plain": [
       "False"
      ]
     },
     "execution_count": 57,
     "metadata": {},
     "output_type": "execute_result"
    }
   ],
   "source": [
    "parrot_trouble(False, 23)"
   ]
  },
  {
   "cell_type": "code",
   "execution_count": 58,
   "id": "787bbab7",
   "metadata": {},
   "outputs": [
    {
     "data": {
      "text/plain": [
       "True"
      ]
     },
     "execution_count": 58,
     "metadata": {},
     "output_type": "execute_result"
    }
   ],
   "source": [
    "parrot_trouble(True, 23)"
   ]
  },
  {
   "cell_type": "code",
   "execution_count": 59,
   "id": "1071e775",
   "metadata": {},
   "outputs": [
    {
     "data": {
      "text/plain": [
       "False"
      ]
     },
     "execution_count": 59,
     "metadata": {},
     "output_type": "execute_result"
    }
   ],
   "source": [
    "parrot_trouble(False, 20)"
   ]
  },
  {
   "cell_type": "code",
   "execution_count": 60,
   "id": "de433cb1",
   "metadata": {},
   "outputs": [
    {
     "data": {
      "text/plain": [
       "False"
      ]
     },
     "execution_count": 60,
     "metadata": {},
     "output_type": "execute_result"
    }
   ],
   "source": [
    "parrot_trouble(False, 21)"
   ]
  },
  {
   "cell_type": "code",
   "execution_count": 61,
   "id": "d43b9751",
   "metadata": {},
   "outputs": [
    {
     "data": {
      "text/plain": [
       "True"
      ]
     },
     "execution_count": 61,
     "metadata": {},
     "output_type": "execute_result"
    }
   ],
   "source": [
    "parrot_trouble(True, 21)"
   ]
  },
  {
   "cell_type": "code",
   "execution_count": 62,
   "id": "d18a4c51",
   "metadata": {},
   "outputs": [
    {
     "data": {
      "text/plain": [
       "False"
      ]
     },
     "execution_count": 62,
     "metadata": {},
     "output_type": "execute_result"
    }
   ],
   "source": [
    "parrot_trouble(False, 6)"
   ]
  },
  {
   "cell_type": "code",
   "execution_count": 63,
   "id": "61a64882",
   "metadata": {},
   "outputs": [
    {
     "data": {
      "text/plain": [
       "False"
      ]
     },
     "execution_count": 63,
     "metadata": {},
     "output_type": "execute_result"
    }
   ],
   "source": [
    "parrot_trouble(True, 7)"
   ]
  },
  {
   "cell_type": "markdown",
   "id": "07837db9",
   "metadata": {},
   "source": [
    "#### makes10\n",
    "\n",
    "Given 2 ints, a and b, return True if one if them is 10 or if their sum is 10.\n",
    "\n",
    "\n",
    "makes10(9, 10) → True <br>\n",
    "makes10(9, 9) → False <br>\n",
    "makes10(1, 9) → True"
   ]
  },
  {
   "cell_type": "code",
   "execution_count": 67,
   "id": "83d3195e",
   "metadata": {},
   "outputs": [],
   "source": [
    "def makes10(a, b):\n",
    "    sum = a + b\n",
    "    if a == 10 or b == 10 or sum == 10:\n",
    "        return True\n",
    "    else:\n",
    "        return False"
   ]
  },
  {
   "cell_type": "code",
   "execution_count": 68,
   "id": "4beca5ae",
   "metadata": {},
   "outputs": [
    {
     "data": {
      "text/plain": [
       "True"
      ]
     },
     "execution_count": 68,
     "metadata": {},
     "output_type": "execute_result"
    }
   ],
   "source": [
    "makes10(9, 10)"
   ]
  },
  {
   "cell_type": "code",
   "execution_count": 69,
   "id": "3beece21",
   "metadata": {},
   "outputs": [
    {
     "data": {
      "text/plain": [
       "True"
      ]
     },
     "execution_count": 69,
     "metadata": {},
     "output_type": "execute_result"
    }
   ],
   "source": [
    "makes10(12, -2)"
   ]
  },
  {
   "cell_type": "code",
   "execution_count": 70,
   "id": "026b2cc0",
   "metadata": {},
   "outputs": [
    {
     "data": {
      "text/plain": [
       "True"
      ]
     },
     "execution_count": 70,
     "metadata": {},
     "output_type": "execute_result"
    }
   ],
   "source": [
    "makes10(10, 42)"
   ]
  },
  {
   "cell_type": "code",
   "execution_count": 71,
   "id": "eabad7eb",
   "metadata": {},
   "outputs": [
    {
     "data": {
      "text/plain": [
       "False"
      ]
     },
     "execution_count": 71,
     "metadata": {},
     "output_type": "execute_result"
    }
   ],
   "source": [
    "makes10(8, 3)"
   ]
  },
  {
   "cell_type": "code",
   "execution_count": 72,
   "id": "ce199a74",
   "metadata": {},
   "outputs": [
    {
     "data": {
      "text/plain": [
       "True"
      ]
     },
     "execution_count": 72,
     "metadata": {},
     "output_type": "execute_result"
    }
   ],
   "source": [
    "makes10(8, 2)"
   ]
  },
  {
   "cell_type": "code",
   "execution_count": 73,
   "id": "f6b5e8d0",
   "metadata": {},
   "outputs": [
    {
     "data": {
      "text/plain": [
       "True"
      ]
     },
     "execution_count": 73,
     "metadata": {},
     "output_type": "execute_result"
    }
   ],
   "source": [
    "makes10(10, 10)"
   ]
  },
  {
   "cell_type": "code",
   "execution_count": 74,
   "id": "e5e45702",
   "metadata": {},
   "outputs": [
    {
     "data": {
      "text/plain": [
       "True"
      ]
     },
     "execution_count": 74,
     "metadata": {},
     "output_type": "execute_result"
    }
   ],
   "source": [
    "makes10(10, 1)"
   ]
  },
  {
   "cell_type": "code",
   "execution_count": 75,
   "id": "6e0f4d75",
   "metadata": {},
   "outputs": [
    {
     "data": {
      "text/plain": [
       "True"
      ]
     },
     "execution_count": 75,
     "metadata": {},
     "output_type": "execute_result"
    }
   ],
   "source": [
    "makes10(1, 9)"
   ]
  },
  {
   "cell_type": "code",
   "execution_count": 76,
   "id": "d625efaa",
   "metadata": {},
   "outputs": [
    {
     "data": {
      "text/plain": [
       "False"
      ]
     },
     "execution_count": 76,
     "metadata": {},
     "output_type": "execute_result"
    }
   ],
   "source": [
    "makes10(9, 9)"
   ]
  },
  {
   "cell_type": "markdown",
   "id": "2b7add7a",
   "metadata": {},
   "source": [
    "#### near_hundred\n",
    "\n",
    "Given an int n, return True if it is within 10 of 100 or 200. Note: abs(num) computes the absolute value of a number.\n",
    "\n",
    "\n",
    "near_hundred(93) → True <br>\n",
    "near_hundred(90) → True <br>\n",
    "near_hundred(89) → False"
   ]
  },
  {
   "cell_type": "code",
   "execution_count": 78,
   "id": "ce6580d2",
   "metadata": {},
   "outputs": [],
   "source": [
    "def near_hundred(n):\n",
    "    if abs(100-n) <= 10 or abs(200-n) <= 10:\n",
    "        return True\n",
    "    else: \n",
    "        return False"
   ]
  },
  {
   "cell_type": "code",
   "execution_count": 79,
   "id": "c97d846a",
   "metadata": {},
   "outputs": [
    {
     "data": {
      "text/plain": [
       "True"
      ]
     },
     "execution_count": 79,
     "metadata": {},
     "output_type": "execute_result"
    }
   ],
   "source": [
    "near_hundred(93)"
   ]
  },
  {
   "cell_type": "code",
   "execution_count": 80,
   "id": "89b8a870",
   "metadata": {},
   "outputs": [
    {
     "data": {
      "text/plain": [
       "False"
      ]
     },
     "execution_count": 80,
     "metadata": {},
     "output_type": "execute_result"
    }
   ],
   "source": [
    "near_hundred(211)"
   ]
  },
  {
   "cell_type": "code",
   "execution_count": 81,
   "id": "1c96f554",
   "metadata": {},
   "outputs": [
    {
     "data": {
      "text/plain": [
       "False"
      ]
     },
     "execution_count": 81,
     "metadata": {},
     "output_type": "execute_result"
    }
   ],
   "source": [
    "near_hundred(290)"
   ]
  },
  {
   "cell_type": "code",
   "execution_count": 82,
   "id": "75f542d3",
   "metadata": {},
   "outputs": [
    {
     "data": {
      "text/plain": [
       "True"
      ]
     },
     "execution_count": 82,
     "metadata": {},
     "output_type": "execute_result"
    }
   ],
   "source": [
    "near_hundred(210)"
   ]
  },
  {
   "cell_type": "code",
   "execution_count": 83,
   "id": "d7d3d6ea",
   "metadata": {},
   "outputs": [
    {
     "data": {
      "text/plain": [
       "True"
      ]
     },
     "execution_count": 83,
     "metadata": {},
     "output_type": "execute_result"
    }
   ],
   "source": [
    "near_hundred(200)"
   ]
  },
  {
   "cell_type": "code",
   "execution_count": 84,
   "id": "72e8c3a5",
   "metadata": {},
   "outputs": [
    {
     "data": {
      "text/plain": [
       "False"
      ]
     },
     "execution_count": 84,
     "metadata": {},
     "output_type": "execute_result"
    }
   ],
   "source": [
    "near_hundred(189)"
   ]
  },
  {
   "cell_type": "code",
   "execution_count": 85,
   "id": "bd6fcca8",
   "metadata": {},
   "outputs": [
    {
     "data": {
      "text/plain": [
       "True"
      ]
     },
     "execution_count": 85,
     "metadata": {},
     "output_type": "execute_result"
    }
   ],
   "source": [
    "near_hundred(191)"
   ]
  },
  {
   "cell_type": "code",
   "execution_count": 86,
   "id": "4fe86cc1",
   "metadata": {},
   "outputs": [
    {
     "data": {
      "text/plain": [
       "False"
      ]
     },
     "execution_count": 86,
     "metadata": {},
     "output_type": "execute_result"
    }
   ],
   "source": [
    "near_hundred(-50)"
   ]
  },
  {
   "cell_type": "code",
   "execution_count": 87,
   "id": "911f45da",
   "metadata": {},
   "outputs": [
    {
     "data": {
      "text/plain": [
       "False"
      ]
     },
     "execution_count": 87,
     "metadata": {},
     "output_type": "execute_result"
    }
   ],
   "source": [
    "near_hundred(5)"
   ]
  },
  {
   "cell_type": "code",
   "execution_count": 88,
   "id": "ffe7d3e5",
   "metadata": {},
   "outputs": [
    {
     "data": {
      "text/plain": [
       "False"
      ]
     },
     "execution_count": 88,
     "metadata": {},
     "output_type": "execute_result"
    }
   ],
   "source": [
    "near_hundred(0)"
   ]
  },
  {
   "cell_type": "code",
   "execution_count": 89,
   "id": "9b59a8f8",
   "metadata": {},
   "outputs": [
    {
     "data": {
      "text/plain": [
       "True"
      ]
     },
     "execution_count": 89,
     "metadata": {},
     "output_type": "execute_result"
    }
   ],
   "source": [
    "near_hundred(209)"
   ]
  },
  {
   "cell_type": "code",
   "execution_count": 90,
   "id": "b2be3f6f",
   "metadata": {},
   "outputs": [
    {
     "data": {
      "text/plain": [
       "True"
      ]
     },
     "execution_count": 90,
     "metadata": {},
     "output_type": "execute_result"
    }
   ],
   "source": [
    "near_hundred(190)"
   ]
  },
  {
   "cell_type": "code",
   "execution_count": 91,
   "id": "b9f64a33",
   "metadata": {},
   "outputs": [
    {
     "data": {
      "text/plain": [
       "False"
      ]
     },
     "execution_count": 91,
     "metadata": {},
     "output_type": "execute_result"
    }
   ],
   "source": [
    "near_hundred(-209)"
   ]
  },
  {
   "cell_type": "code",
   "execution_count": 92,
   "id": "e53eec11",
   "metadata": {},
   "outputs": [
    {
     "data": {
      "text/plain": [
       "False"
      ]
     },
     "execution_count": 92,
     "metadata": {},
     "output_type": "execute_result"
    }
   ],
   "source": [
    "near_hundred(-101)"
   ]
  },
  {
   "cell_type": "code",
   "execution_count": 93,
   "id": "d21e5699",
   "metadata": {},
   "outputs": [
    {
     "data": {
      "text/plain": [
       "False"
      ]
     },
     "execution_count": 93,
     "metadata": {},
     "output_type": "execute_result"
    }
   ],
   "source": [
    "near_hundred(121)"
   ]
  },
  {
   "cell_type": "code",
   "execution_count": 94,
   "id": "f2225da4",
   "metadata": {},
   "outputs": [
    {
     "data": {
      "text/plain": [
       "False"
      ]
     },
     "execution_count": 94,
     "metadata": {},
     "output_type": "execute_result"
    }
   ],
   "source": [
    "near_hundred(111)"
   ]
  },
  {
   "cell_type": "code",
   "execution_count": 95,
   "id": "fef3760c",
   "metadata": {},
   "outputs": [
    {
     "data": {
      "text/plain": [
       "True"
      ]
     },
     "execution_count": 95,
     "metadata": {},
     "output_type": "execute_result"
    }
   ],
   "source": [
    "near_hundred(110)"
   ]
  },
  {
   "cell_type": "code",
   "execution_count": 96,
   "id": "448ae3b0",
   "metadata": {},
   "outputs": [
    {
     "data": {
      "text/plain": [
       "False"
      ]
     },
     "execution_count": 96,
     "metadata": {},
     "output_type": "execute_result"
    }
   ],
   "source": [
    "near_hundred(89)"
   ]
  },
  {
   "cell_type": "code",
   "execution_count": 97,
   "id": "f3a8b6eb",
   "metadata": {},
   "outputs": [
    {
     "data": {
      "text/plain": [
       "True"
      ]
     },
     "execution_count": 97,
     "metadata": {},
     "output_type": "execute_result"
    }
   ],
   "source": [
    "near_hundred(90)"
   ]
  },
  {
   "cell_type": "markdown",
   "id": "ccbed220",
   "metadata": {},
   "source": [
    "#### pos_neg\n",
    "\n",
    "Given 2 int values, return True if one is negative and one is positive. Except if the parameter \"negative\" is True, then return True only if both are negative.\n",
    "\n",
    "\n",
    "pos_neg(1, -1, False) → True <br>\n",
    "pos_neg(-1, 1, False) → True <br>\n",
    "pos_neg(-4, -5, True) → True"
   ]
  },
  {
   "cell_type": "code",
   "execution_count": 98,
   "id": "5298516c",
   "metadata": {},
   "outputs": [],
   "source": [
    "def pos_neg(a, b, negative):\n",
    "    if negative == True:\n",
    "        if a<0 and b<0:\n",
    "            return True\n",
    "        else:\n",
    "            return False\n",
    "  \n",
    "    elif (a>0 and b<0) or (a<0 and b>0):\n",
    "        return True\n",
    "    \n",
    "    else:\n",
    "        return False"
   ]
  },
  {
   "cell_type": "markdown",
   "id": "f93acd58",
   "metadata": {},
   "source": [
    "#### not_string\n",
    "\n",
    "\n",
    "Given a string, return a new string where \"not \" has been added to the front. However, if the string already begins with \"not\", return the string unchanged.\n",
    "\n",
    "\n",
    "not_string('candy') → 'not candy' <br>\n",
    "not_string('x') → 'not x' <br>\n",
    "not_string('not bad') → 'not bad'"
   ]
  },
  {
   "cell_type": "code",
   "execution_count": 99,
   "id": "7225ecfc",
   "metadata": {},
   "outputs": [],
   "source": [
    "def not_string(str):\n",
    "    not_word = 'not'\n",
    "    if str[0:3] == not_word:\n",
    "        return str\n",
    "    else:\n",
    "        return 'not '+str"
   ]
  },
  {
   "cell_type": "markdown",
   "id": "7881786a",
   "metadata": {},
   "source": [
    "#### missing_char\n",
    "\n",
    "Given a non-empty string and an int n, return a new string where the char at index n has been removed. The value of n will be a valid index of a char in the original string (i.e. n will be in the range 0..len(str)-1 inclusive).\n",
    "\n",
    "\n",
    "missing_char('kitten', 1) → 'ktten' <br>\n",
    "missing_char('kitten', 0) → 'itten' <br>\n",
    "missing_char('kitten', 4) → 'kittn'"
   ]
  },
  {
   "cell_type": "code",
   "execution_count": 100,
   "id": "ce7d752d",
   "metadata": {},
   "outputs": [],
   "source": [
    "def missing_char(str, n):\n",
    "    first = str[:n]\n",
    "    last = str[n+1:]\n",
    "    return first + last"
   ]
  },
  {
   "cell_type": "markdown",
   "id": "288db540",
   "metadata": {},
   "source": [
    "#### front_back\n",
    "\n",
    "Given a string, return a new string where the first and last chars have been exchanged.\n",
    "\n",
    "\n",
    "front_back('code') → 'eodc' <br>\n",
    "front_back('a') → 'a' <br>\n",
    "front_back('ab') → 'ba'"
   ]
  },
  {
   "cell_type": "code",
   "execution_count": 113,
   "id": "838be88b",
   "metadata": {},
   "outputs": [],
   "source": [
    "def front_back(str):\n",
    "    if len(str) <=1:\n",
    "        return str\n",
    "    first_char = str[0]\n",
    "    middle_char = str[1:-1]\n",
    "    last_char = str[-1]\n",
    "    final = last_char + middle_char + first_char\n",
    "    return final"
   ]
  },
  {
   "cell_type": "code",
   "execution_count": 112,
   "id": "6c04c2f0",
   "metadata": {},
   "outputs": [
    {
     "data": {
      "text/plain": [
       "'eodc'"
      ]
     },
     "execution_count": 112,
     "metadata": {},
     "output_type": "execute_result"
    }
   ],
   "source": [
    "front_back('code')"
   ]
  },
  {
   "cell_type": "code",
   "execution_count": 104,
   "id": "d3bc9517",
   "metadata": {},
   "outputs": [
    {
     "data": {
      "text/plain": [
       "'oellh'"
      ]
     },
     "execution_count": 104,
     "metadata": {},
     "output_type": "execute_result"
    }
   ],
   "source": [
    "front_back('hello')"
   ]
  },
  {
   "cell_type": "code",
   "execution_count": 105,
   "id": "37806f2c",
   "metadata": {},
   "outputs": [
    {
     "data": {
      "text/plain": [
       "'Java'"
      ]
     },
     "execution_count": 105,
     "metadata": {},
     "output_type": "execute_result"
    }
   ],
   "source": [
    "front_back('aavJ')"
   ]
  },
  {
   "cell_type": "code",
   "execution_count": 106,
   "id": "8789a298",
   "metadata": {},
   "outputs": [
    {
     "data": {
      "text/plain": [
       "'ehocolatC'"
      ]
     },
     "execution_count": 106,
     "metadata": {},
     "output_type": "execute_result"
    }
   ],
   "source": [
    "front_back('Chocolate')"
   ]
  },
  {
   "cell_type": "code",
   "execution_count": 109,
   "id": "58792b4c",
   "metadata": {},
   "outputs": [
    {
     "data": {
      "text/plain": [
       "'cba'"
      ]
     },
     "execution_count": 109,
     "metadata": {},
     "output_type": "execute_result"
    }
   ],
   "source": [
    "front_back('abc')"
   ]
  },
  {
   "cell_type": "code",
   "execution_count": 110,
   "id": "6e91d219",
   "metadata": {},
   "outputs": [
    {
     "data": {
      "text/plain": [
       "'ba'"
      ]
     },
     "execution_count": 110,
     "metadata": {},
     "output_type": "execute_result"
    }
   ],
   "source": [
    "front_back('ab')"
   ]
  },
  {
   "cell_type": "code",
   "execution_count": 114,
   "id": "10b0de21",
   "metadata": {},
   "outputs": [
    {
     "data": {
      "text/plain": [
       "'a'"
      ]
     },
     "execution_count": 114,
     "metadata": {},
     "output_type": "execute_result"
    }
   ],
   "source": [
    "front_back('a')"
   ]
  },
  {
   "cell_type": "code",
   "execution_count": 115,
   "id": "e66d6883",
   "metadata": {},
   "outputs": [
    {
     "data": {
      "text/plain": [
       "''"
      ]
     },
     "execution_count": 115,
     "metadata": {},
     "output_type": "execute_result"
    }
   ],
   "source": [
    "front_back('')"
   ]
  },
  {
   "cell_type": "markdown",
   "id": "b97ab509",
   "metadata": {},
   "source": [
    "#### front3\n",
    "\n",
    "Given a string, we'll say that the front is the first 3 chars of the string. If the string length is less than 3, the front is whatever is there. Return a new string which is 3 copies of the front.\n",
    "\n",
    "\n",
    "front3('Java') → 'JavJavJav' <br>\n",
    "front3('Chocolate') → 'ChoChoCho' <br>\n",
    "front3('abc') → 'abcabcabc'"
   ]
  },
  {
   "cell_type": "code",
   "execution_count": 116,
   "id": "4bbaca26",
   "metadata": {},
   "outputs": [],
   "source": [
    "def front3(str):\n",
    "    three = str[0:3]\n",
    "    return three*3"
   ]
  },
  {
   "cell_type": "code",
   "execution_count": 122,
   "id": "91595d6d",
   "metadata": {},
   "outputs": [
    {
     "data": {
      "text/plain": [
       "'JavJavJav'"
      ]
     },
     "execution_count": 122,
     "metadata": {},
     "output_type": "execute_result"
    }
   ],
   "source": [
    "front3('Java')"
   ]
  },
  {
   "cell_type": "code",
   "execution_count": 117,
   "id": "ca17b4c3",
   "metadata": {},
   "outputs": [
    {
     "data": {
      "text/plain": [
       "''"
      ]
     },
     "execution_count": 117,
     "metadata": {},
     "output_type": "execute_result"
    }
   ],
   "source": [
    "front3('')"
   ]
  },
  {
   "cell_type": "code",
   "execution_count": 118,
   "id": "e8f0b09f",
   "metadata": {},
   "outputs": [
    {
     "data": {
      "text/plain": [
       "'aaa'"
      ]
     },
     "execution_count": 118,
     "metadata": {},
     "output_type": "execute_result"
    }
   ],
   "source": [
    "front3('a')"
   ]
  },
  {
   "cell_type": "code",
   "execution_count": 119,
   "id": "56b2a1b0",
   "metadata": {},
   "outputs": [
    {
     "data": {
      "text/plain": [
       "'ababab'"
      ]
     },
     "execution_count": 119,
     "metadata": {},
     "output_type": "execute_result"
    }
   ],
   "source": [
    "front3('ab')"
   ]
  },
  {
   "cell_type": "code",
   "execution_count": 120,
   "id": "957c0dd9",
   "metadata": {},
   "outputs": [
    {
     "data": {
      "text/plain": [
       "'abcabcabc'"
      ]
     },
     "execution_count": 120,
     "metadata": {},
     "output_type": "execute_result"
    }
   ],
   "source": [
    "front3('abcXYZ')"
   ]
  },
  {
   "cell_type": "code",
   "execution_count": 121,
   "id": "45277404",
   "metadata": {},
   "outputs": [
    {
     "data": {
      "text/plain": [
       "'abcabcabc'"
      ]
     },
     "execution_count": 121,
     "metadata": {},
     "output_type": "execute_result"
    }
   ],
   "source": [
    "front3('abc')"
   ]
  },
  {
   "cell_type": "code",
   "execution_count": 123,
   "id": "0a929585",
   "metadata": {},
   "outputs": [
    {
     "data": {
      "text/plain": [
       "'ChoChoCho'"
      ]
     },
     "execution_count": 123,
     "metadata": {},
     "output_type": "execute_result"
    }
   ],
   "source": [
    "front3('Chocolate')"
   ]
  }
 ],
 "metadata": {
  "kernelspec": {
   "display_name": "Python 3 (ipykernel)",
   "language": "python",
   "name": "python3"
  },
  "language_info": {
   "codemirror_mode": {
    "name": "ipython",
    "version": 3
   },
   "file_extension": ".py",
   "mimetype": "text/x-python",
   "name": "python",
   "nbconvert_exporter": "python",
   "pygments_lexer": "ipython3",
   "version": "3.9.13"
  }
 },
 "nbformat": 4,
 "nbformat_minor": 5
}
